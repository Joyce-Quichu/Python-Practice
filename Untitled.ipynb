{
 "cells": [
  {
   "cell_type": "code",
   "execution_count": null,
   "metadata": {},
   "outputs": [],
   "source": [
    "print('hello')"
   ]
  },
  {
   "cell_type": "code",
   "execution_count": null,
   "metadata": {},
   "outputs": [],
   "source": [
    "a=20"
   ]
  },
  {
   "cell_type": "code",
   "execution_count": null,
   "metadata": {},
   "outputs": [],
   "source": [
    "a"
   ]
  },
  {
   "cell_type": "code",
   "execution_count": null,
   "metadata": {},
   "outputs": [],
   "source": [
    "type(a)\n"
   ]
  },
  {
   "cell_type": "code",
   "execution_count": null,
   "metadata": {},
   "outputs": [],
   "source": [
    "45-16"
   ]
  },
  {
   "cell_type": "code",
   "execution_count": null,
   "metadata": {},
   "outputs": [],
   "source": [
    "45/4\n"
   ]
  },
  {
   "cell_type": "code",
   "execution_count": null,
   "metadata": {},
   "outputs": [],
   "source": [
    "45//4"
   ]
  },
  {
   "cell_type": "code",
   "execution_count": null,
   "metadata": {},
   "outputs": [],
   "source": [
    "45%4"
   ]
  },
  {
   "cell_type": "code",
   "execution_count": null,
   "metadata": {},
   "outputs": [],
   "source": [
    "a=20\n"
   ]
  },
  {
   "cell_type": "code",
   "execution_count": null,
   "metadata": {},
   "outputs": [],
   "source": [
    "a*=a+a\n",
    "\n"
   ]
  },
  {
   "cell_type": "code",
   "execution_count": null,
   "metadata": {},
   "outputs": [],
   "source": [
    "alist=('science','math')"
   ]
  },
  {
   "cell_type": "code",
   "execution_count": null,
   "metadata": {},
   "outputs": [],
   "source": [
    "type('alist')\n"
   ]
  },
  {
   "cell_type": "code",
   "execution_count": null,
   "metadata": {},
   "outputs": [],
   "source": [
    "num=input('enter anything')\n",
    "\n"
   ]
  },
  {
   "cell_type": "code",
   "execution_count": null,
   "metadata": {},
   "outputs": [],
   "source": []
  },
  {
   "cell_type": "code",
   "execution_count": null,
   "metadata": {},
   "outputs": [],
   "source": [
    "x='dark'\n",
    "if x=='dark' :\n",
    "    print('will go to the party')"
   ]
  },
  {
   "cell_type": "code",
   "execution_count": null,
   "metadata": {},
   "outputs": [],
   "source": [
    "x='dark'\n",
    "if x=='light': \n",
    "    print('will go the party')\n",
    "else :\n",
    "    print('will not go to the party')"
   ]
  },
  {
   "cell_type": "code",
   "execution_count": null,
   "metadata": {},
   "outputs": [],
   "source": [
    "y='bank'\n",
    "if y=='auto shop':\n",
    "    print('welcome to auto shop')\n",
    "elif y=='bank' :\n",
    "    print('welcome to bank')\n",
    "else :\n",
    "    print('where are you')"
   ]
  },
  {
   "cell_type": "code",
   "execution_count": null,
   "metadata": {},
   "outputs": [],
   "source": [
    "person='george'\n",
    "if person=='Sammy':\n",
    "    print('welcome Sammy')\n",
    "elif person=='george':\n",
    "    print ('welcome george')\n",
    "elif person=='Summer':\n",
    "    print('welcome Summer')\n",
    "elif person=='Joyce':\n",
    "    print('welcome Joyce')\n",
    "else :\n",
    "    print('welcome,whats your name?')\n",
    "    \n"
   ]
  },
  {
   "cell_type": "code",
   "execution_count": null,
   "metadata": {},
   "outputs": [],
   "source": [
    "a=(100)\n",
    "if a%2==(0):\n",
    "    print('even number')\n",
    "else :\n",
    "    print('odd number')\n",
    "\n",
    "    \n",
    "    "
   ]
  },
  {
   "cell_type": "code",
   "execution_count": null,
   "metadata": {},
   "outputs": [],
   "source": [
    "a=int(input('enter the number'))\n",
    "b=int(input('enter the number'))\n",
    "if a>b :\n",
    "    print('a is greater than b')\n",
    "else :\n",
    "    print('b is greater than a')"
   ]
  },
  {
   "cell_type": "markdown",
   "metadata": {},
   "source": [
    "# a=int(input('enter the number'))\n",
    "b=float(input('enter the number'))\n",
    "c=a*b\n",
    "print(c)\n",
    "\n",
    "\n",
    "\n",
    "    \n",
    "    \n",
    "\n",
    "    "
   ]
  },
  {
   "cell_type": "code",
   "execution_count": null,
   "metadata": {},
   "outputs": [],
   "source": [
    " #injecting variables using the format method\n",
    "\n",
    " #injecting variables using the format method\n",
    "\n",
    "name = 'John'\n",
    "\n",
    "print('Hello {}'.format(name))\n",
    "\n",
    "print('Hello {}, you are {} years old!'.format(name, 28))"
   ]
  },
  {
   "cell_type": "code",
   "execution_count": null,
   "metadata": {},
   "outputs": [],
   "source": [
    "name='john'\n",
    "print('hello {}'.format(name))\n",
    "print('hello {}, you are {} years old'.format(name,28))"
   ]
  },
  {
   "cell_type": "code",
   "execution_count": 1,
   "metadata": {},
   "outputs": [
    {
     "name": "stdout",
     "output_type": "stream",
     "text": [
      "enter any number11\n",
      "enter any number12\n",
      "enter any number13\n",
      "13\n"
     ]
    }
   ],
   "source": [
    "a=int(input('enter any number'))\n",
    "b=int(input('enter any number'))\n",
    "c=int(input('enter any number'))\n",
    "if a>b>c :\n",
    "    print (a)\n",
    "elif b>c>a :\n",
    "    print (b)\n",
    "else : \n",
    "    print(c)\n",
    "    \n",
    "    "
   ]
  },
  {
   "cell_type": "code",
   "execution_count": null,
   "metadata": {},
   "outputs": [],
   "source": [
    "a=int(input('enter any number'))\n",
    "b=int(input('enter any number'))\n",
    "c=int(input('enter any number'))\n",
    "if (a>b and a<c)or(a<b and a>b):\n",
    "    print('a is the mid number')\n",
    "elif (b>c and b<a)or(b<c and b>a ):\n",
    "    print ('b is the mid number')\n",
    "elif (a==b)or(b==c)or(a==c):\n",
    "    print('no mid number')\n",
    "else :\n",
    "    print(c)\n",
    "    "
   ]
  },
  {
   "cell_type": "code",
   "execution_count": null,
   "metadata": {},
   "outputs": [],
   "source": [
    "a=[1,2,3,4,5,6,7,8,9,10]\n",
    "for num in a :\n",
    "    if num %3==0 :\n",
    "        print(num)\n",
    "    else :\n",
    "        print('even numbers')"
   ]
  },
  {
   "cell_type": "code",
   "execution_count": null,
   "metadata": {},
   "outputs": [],
   "source": [
    "a=[1,2,3,4,5,6,7,8,9]\n",
    "a_sum=0\n",
    "for num in a:\n",
    "    a_sum=(a_sum + num)\n",
    "print(a_sum)"
   ]
  },
  {
   "cell_type": "code",
   "execution_count": null,
   "metadata": {},
   "outputs": [],
   "source": [
    "a=[1,2,3,4,5,6,7,8,9]\n",
    "a_mul=1\n",
    "for num in a:\n",
    "    a_mul=(a_mul*num)\n",
    "print(a_mul)"
   ]
  },
  {
   "cell_type": "code",
   "execution_count": null,
   "metadata": {},
   "outputs": [],
   "source": [
    "a='sence still will some'\n",
    "for word in a.split():\n",
    "    if \n",
    "    word[3]=='l':\n",
    "        print(word)"
   ]
  },
  {
   "cell_type": "code",
   "execution_count": null,
   "metadata": {},
   "outputs": [],
   "source": [
    "b='till time om turn'\n",
    "for word in b.split():\n",
    "    if word[0]=='t':\n",
    "            print(word)"
   ]
  },
  {
   "cell_type": "code",
   "execution_count": null,
   "metadata": {},
   "outputs": [],
   "source": [
    "for i in (range(2,10,3)):\n",
    "          print('inside loop',i)\n",
    "print('outside loop')\n",
    "          \n",
    "  "
   ]
  },
  {
   "cell_type": "code",
   "execution_count": null,
   "metadata": {},
   "outputs": [],
   "source": [
    "for i in (range(1,51)):\n",
    "    if i%3==0:\n",
    "        print('inside the loop',i)\n",
    "    elif i%5==0:\n",
    "        print('outside the loop',i)\n",
    "        "
   ]
  },
  {
   "cell_type": "code",
   "execution_count": null,
   "metadata": {
    "scrolled": true
   },
   "outputs": [],
   "source": [
    "animals=['cat','dog','rabbit']\n",
    "wild_animals=['tiger','fox']\n",
    "animals.append(wild_animals)\n",
    "print('updated animal list',animals)"
   ]
  },
  {
   "cell_type": "code",
   "execution_count": null,
   "metadata": {},
   "outputs": [],
   "source": [
    "input_number=int(input('any number'))\n",
    "print(input_number)\n",
    "\n"
   ]
  },
  {
   "cell_type": "code",
   "execution_count": null,
   "metadata": {},
   "outputs": [],
   "source": [
    "type(input_number)\n"
   ]
  },
  {
   "cell_type": "code",
   "execution_count": null,
   "metadata": {},
   "outputs": [],
   "source": [
    "a=str(input_number)"
   ]
  },
  {
   "cell_type": "code",
   "execution_count": null,
   "metadata": {},
   "outputs": [],
   "source": [
    "type(a)"
   ]
  },
  {
   "cell_type": "code",
   "execution_count": null,
   "metadata": {},
   "outputs": [],
   "source": [
    "int_list=[]\n",
    "for i in range(len(a)):\n",
    "    int_list.append(int(a[i]))\n",
    "print(int_list)"
   ]
  },
  {
   "cell_type": "code",
   "execution_count": null,
   "metadata": {},
   "outputs": [],
   "source": [
    "a=int(input('any number'))\n",
    "fact=1\n",
    "for i in range(a,0,-1):\n",
    "    fact=fact*i\n",
    "print(fact)"
   ]
  },
  {
   "cell_type": "code",
   "execution_count": null,
   "metadata": {},
   "outputs": [],
   "source": [
    "num=int(input('any number'))\n",
    "fact=1\n",
    "for i in range(num,0,-1):\n",
    "    fact=fact*i\n",
    "print(fact)"
   ]
  },
  {
   "cell_type": "code",
   "execution_count": null,
   "metadata": {},
   "outputs": [],
   "source": [
    "a_sum=0\n",
    "for i in range(1,51):\n",
    "    a_sum=a_sum+i\n",
    "print(a_sum)\n",
    "   "
   ]
  },
  {
   "cell_type": "code",
   "execution_count": null,
   "metadata": {},
   "outputs": [],
   "source": [
    "a=int(input('any number'))\n",
    "fact=1\n",
    "for i in range(a,0,-1):\n",
    "    fact=fact*i\n",
    "print(fact)"
   ]
  },
  {
   "cell_type": "code",
   "execution_count": null,
   "metadata": {},
   "outputs": [],
   "source": [
    "a=int(input('any number'))\n",
    "num_sum=0\n",
    "for i in range(0,a+1,1):\n",
    "               num_sum=num_sum+i\n",
    "print(num_sum)\n",
    "               "
   ]
  },
  {
   "cell_type": "code",
   "execution_count": null,
   "metadata": {},
   "outputs": [],
   "source": [
    "num=int(input('any number'))\n",
    "fact=1\n",
    "for i in range(1,11):\n",
    "    print(num,'x',i,'=',num*i)\n",
    "\n",
    "\n",
    "\n",
    "    "
   ]
  },
  {
   "cell_type": "code",
   "execution_count": null,
   "metadata": {},
   "outputs": [],
   "source": [
    "num=int(input('user number'))\n",
    "a=0\n",
    "b=1\n",
    "for i in range(num):\n",
    "    c=a+b\n",
    "    print(a)\n",
    "    \n",
    "    a=b\n",
    "    b=c\n",
    "    \n",
    "\n",
    "    \n",
    "    "
   ]
  },
  {
   "cell_type": "code",
   "execution_count": null,
   "metadata": {},
   "outputs": [],
   "source": [
    "num=int(input('user number'))\n",
    "mul=0\n",
    "for i in range(2,num):\n",
    "    if num%i==0:\n",
    "        mul=mul+1\n",
    "if mul==0:\n",
    "    print('it is a prime number')\n",
    "else:\n",
    "    print('it is not a prime number')\n",
    "    \n",
    "    \n"
   ]
  },
  {
   "cell_type": "code",
   "execution_count": null,
   "metadata": {},
   "outputs": [],
   "source": [
    "for i in range(0,10,):\n",
    "    if i==6:\n",
    "        break\n",
    "    else:\n",
    "        print('loop is successful',i)\n"
   ]
  },
  {
   "cell_type": "code",
   "execution_count": 4,
   "metadata": {},
   "outputs": [
    {
     "ename": "SyntaxError",
     "evalue": "invalid syntax (<ipython-input-4-009a2a129d2b>, line 2)",
     "output_type": "error",
     "traceback": [
      "\u001b[0;36m  File \u001b[0;32m\"<ipython-input-4-009a2a129d2b>\"\u001b[0;36m, line \u001b[0;32m2\u001b[0m\n\u001b[0;31m    sum=0\u001b[0m\n\u001b[0m    ^\u001b[0m\n\u001b[0;31mSyntaxError\u001b[0m\u001b[0;31m:\u001b[0m invalid syntax\n"
     ]
    }
   ],
   "source": [
    "x=int(input('user number')\n",
    "sum=0\n",
    "for i in range(0,x+1):\n",
    "      sum=sum+i\n",
    "      print(sum)\n",
    "      \n",
    "\n",
    "    "
   ]
  },
  {
   "cell_type": "code",
   "execution_count": null,
   "metadata": {},
   "outputs": [],
   "source": []
  }
 ],
 "metadata": {
  "kernelspec": {
   "display_name": "Python 3",
   "language": "python",
   "name": "python3"
  },
  "language_info": {
   "codemirror_mode": {
    "name": "ipython",
    "version": 3
   },
   "file_extension": ".py",
   "mimetype": "text/x-python",
   "name": "python",
   "nbconvert_exporter": "python",
   "pygments_lexer": "ipython3",
   "version": "3.8.3"
  }
 },
 "nbformat": 4,
 "nbformat_minor": 4
}
