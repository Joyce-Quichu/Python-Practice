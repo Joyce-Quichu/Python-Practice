{
 "cells": [
  {
   "cell_type": "code",
   "execution_count": 1,
   "id": "3c9b2a3c",
   "metadata": {},
   "outputs": [
    {
     "name": "stdout",
     "output_type": "stream",
     "text": [
      "[15, 25, 35]\n"
     ]
    }
   ],
   "source": [
    "red=[10,20,30]\n",
    "blue=[]\n",
    "for num in red:\n",
    "    blue.append(num+5)\n",
    "print(blue)"
   ]
  },
  {
   "cell_type": "code",
   "execution_count": 2,
   "id": "9ea24e8c",
   "metadata": {},
   "outputs": [
    {
     "name": "stdout",
     "output_type": "stream",
     "text": [
      "[0, 1, 2, 3, 4, 5, 6, 7, 8, 9]\n"
     ]
    }
   ],
   "source": [
    "#practice using range\n",
    "fox=[num for num in range(10)]\n",
    "print(fox)"
   ]
  },
  {
   "cell_type": "code",
   "execution_count": 3,
   "id": "1cc19130",
   "metadata": {},
   "outputs": [
    {
     "name": "stdout",
     "output_type": "stream",
     "text": [
      "[5, 6, 7, 8, 9, 10, 11, 12, 13, 14, 15, 16, 17, 18, 19]\n"
     ]
    }
   ],
   "source": [
    "hen=[num for num in range(15)]\n",
    "mouse=[]\n",
    "for num in hen:\n",
    "    mouse.append(num+5)\n",
    "print(mouse)"
   ]
  },
  {
   "cell_type": "code",
   "execution_count": 5,
   "id": "2305a754",
   "metadata": {},
   "outputs": [
    {
     "name": "stdout",
     "output_type": "stream",
     "text": [
      "[1, 2, 3, 4, 5, 6, 7, 8, 9, 10]\n"
     ]
    }
   ],
   "source": [
    "rat=[num for num in range(10)]\n",
    "hat=[num+1 for num in rat]\n",
    "print(hat)"
   ]
  },
  {
   "cell_type": "markdown",
   "id": "235f0c9f",
   "metadata": {},
   "source": []
  },
  {
   "cell_type": "code",
   "execution_count": 6,
   "id": "b04de9f7",
   "metadata": {},
   "outputs": [
    {
     "data": {
      "text/plain": [
       "[['emma', 1.5], ['hen', 2]]"
      ]
     },
     "execution_count": 6,
     "metadata": {},
     "output_type": "execute_result"
    }
   ],
   "source": [
    "fam=[['emma',1.5],['hen',2],['man',4],['roy','jay']]\n",
    "fam[:2]"
   ]
  },
  {
   "cell_type": "code",
   "execution_count": 10,
   "id": "680b9667",
   "metadata": {},
   "outputs": [
    {
     "data": {
      "text/plain": [
       "['hen', 2]"
      ]
     },
     "execution_count": 10,
     "metadata": {},
     "output_type": "execute_result"
    }
   ],
   "source": [
    "fam[-3]"
   ]
  },
  {
   "cell_type": "code",
   "execution_count": null,
   "id": "7c96c876",
   "metadata": {},
   "outputs": [],
   "source": []
  }
 ],
 "metadata": {
  "kernelspec": {
   "display_name": "Python 3 (ipykernel)",
   "language": "python",
   "name": "python3"
  },
  "language_info": {
   "codemirror_mode": {
    "name": "ipython",
    "version": 3
   },
   "file_extension": ".py",
   "mimetype": "text/x-python",
   "name": "python",
   "nbconvert_exporter": "python",
   "pygments_lexer": "ipython3",
   "version": "3.9.12"
  }
 },
 "nbformat": 4,
 "nbformat_minor": 5
}
